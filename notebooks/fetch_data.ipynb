{
 "cells": [
  {
   "cell_type": "markdown",
   "id": "78338c37",
   "metadata": {},
   "source": [
    "# Jupyterhub application cloud data\n",
    "In this notebook we collect metrics, logs, and events data for the jupyterhub application. We retrieve the data and show how it can be split by pods. This data can be used as observations and training data for machine learning models."
   ]
  },
  {
   "cell_type": "code",
   "execution_count": 1,
   "id": "02f89efd",
   "metadata": {},
   "outputs": [],
   "source": [
    "from prometheus_api_client import PrometheusConnect\n",
    "from prometheus_api_client.metric_range_df import MetricRangeDataFrame\n",
    "from datetime import timedelta, datetime\n",
    "import pandas as pd\n",
    "import seaborn as sns\n",
    "import json\n",
    "import requests\n",
    "import hashlib\n",
    "import re\n",
    "\n",
    "\n",
    "sns.set(rc={\"figure.figsize\": (15, 10)})"
   ]
  },
  {
   "cell_type": "markdown",
   "id": "6efb96c8",
   "metadata": {},
   "source": [
    "## Metrics\n",
    "In this section, we will look at the metrics collected for the pods in the opf-jupyterhub namespace. We explore the metrics in the [Grafana dashboard](https://grafana-route-opf-monitoring.apps.zero.massopen.cloud/d/0fddcc62fa2792f6c6db1a2d6fdd109bde1196ec/jupyterhub-sli-slo?orgId=1) that is used while monitoring the Jupyterhub application. "
   ]
  },
  {
   "cell_type": "code",
   "execution_count": 2,
   "id": "12090504",
   "metadata": {},
   "outputs": [],
   "source": [
    "prom_url = \"http://thanos-query-frontend-opf-observatorium.apps.zero.massopen.cloud/\"\n",
    "# Creating the prometheus connect object with the required parameters\n",
    "# To get your token, login to moc operate first dashboard\n",
    "# click on your username on top right\n",
    "# copy login command and display token\n",
    "pc = PrometheusConnect(\n",
    "    url=prom_url,\n",
    "    disable_ssl=False,\n",
    "    headers={\"Authorization\": \"bearer [token]\"},\n",
    ")\n",
    "# Fetching a list of all metrics scraped by the Prometheus host.\n",
    "all_metrics = pd.DataFrame(pc.all_metrics(), columns={\"metrics\"})"
   ]
  },
  {
   "cell_type": "code",
   "execution_count": 3,
   "id": "8ef52a10",
   "metadata": {},
   "outputs": [],
   "source": [
    "## Define function to fetch data for a start time and end time\n",
    "start_time = datetime(2021, 4, 28, 12)\n",
    "end_time = datetime(2021, 4, 29, 12)\n",
    "\n",
    "\n",
    "def fetch_metric(metric_name, start_time, end_time):\n",
    "    # Request last week's data\n",
    "    metric_data = pc.get_metric_range_data(\n",
    "        metric_name,  # metric name and label config\n",
    "        start_time=start_time,  # datetime object for metric range start time\n",
    "        end_time=end_time,  # datetime object for metric range end time\n",
    "        chunk_size=timedelta(\n",
    "            days=1\n",
    "        ),  # timedelta object for duration of metric data downloaded in one request\n",
    "    )\n",
    "\n",
    "    ## Make the dataframe\n",
    "    metric_df = MetricRangeDataFrame(metric_data)\n",
    "    metric_df.index = pd.to_datetime(metric_df.index, unit=\"s\", utc=True)\n",
    "\n",
    "    return metric_df"
   ]
  },
  {
   "cell_type": "code",
   "execution_count": 4,
   "id": "679c3261-ab5a-45ce-b292-99ce4d207cae",
   "metadata": {},
   "outputs": [],
   "source": [
    "## Obfuscate PII data\n",
    "\n",
    "re_email = re.compile(r\"[\\w.+-]+@[\\w-]+\\.[\\w.-]+\")\n",
    "re_podname = re.compile(r\"[\\w.+-]+40[\\w-]+2e[\\w.-]+\")\n",
    "re_quayimage = re.compile(r\"\\\"quay\\.io\\S*\")\n",
    "\n",
    "\n",
    "def hash_str(x):\n",
    "    \"\"\"\n",
    "    Takes in a string and returns it's hash\n",
    "    \"\"\"\n",
    "    hash_object = hashlib.sha224(x.encode(\"utf-8\"))\n",
    "    return hash_object.hexdigest()\n",
    "\n",
    "\n",
    "def hash_email(x):\n",
    "    \"\"\"\n",
    "    Takes in a string, finds emails from\n",
    "    it and replaces it with their hash\n",
    "    \"\"\"\n",
    "    insts = re_email.findall(x)\n",
    "    for ins in insts:\n",
    "        x = re.sub(pattern=ins, string=x, repl=hash_str(ins))\n",
    "    return x\n",
    "\n",
    "\n",
    "def hash_podname(x):\n",
    "    \"\"\"\n",
    "    Takes in a string, finds pod names\n",
    "    from it and replaces it with their hash\n",
    "    \"\"\"\n",
    "    insts = re_podname.findall(x)\n",
    "    for ins in insts:\n",
    "        x = re.sub(pattern=ins, string=x, repl=hash_str(ins))\n",
    "    return x\n",
    "\n",
    "\n",
    "def hash_quay_image(x):\n",
    "    \"\"\"\n",
    "    Takes in a string, finds quay image\n",
    "    links in it and replaces it with their hash\n",
    "    \"\"\"\n",
    "    insts = re_quayimage.findall(x)\n",
    "    for ins in insts:\n",
    "        x = re.sub(pattern=ins, string=x, repl=hash_str(ins))\n",
    "    return x"
   ]
  },
  {
   "cell_type": "markdown",
   "id": "162e4cc6",
   "metadata": {},
   "source": [
    "#### Memory"
   ]
  },
  {
   "cell_type": "code",
   "execution_count": 5,
   "id": "1126fb93",
   "metadata": {},
   "outputs": [],
   "source": [
    "## Collect pod memories\n",
    "pod_memory = fetch_metric(\n",
    "    \"container_memory_working_set_bytes{\\\n",
    "                            namespace='opf-jupyterhub',\\\n",
    "                            pod=~'jupyterhub.*'}\",\n",
    "    start_time,\n",
    "    end_time,\n",
    ")"
   ]
  },
  {
   "cell_type": "code",
   "execution_count": 7,
   "id": "3b0fa2bc-49f2-4306-9908-6e0f99e3f15f",
   "metadata": {},
   "outputs": [],
   "source": [
    "pod_memory = pod_memory[[\"container\", \"instance\", \"name\", \"pod\", \"value\"]]\n",
    "pod_memory[\"pod\"] = pod_memory[\"pod\"].apply(hash_str)\n",
    "pod_memory[\"name\"] = pod_memory[\"name\"].astype(str).apply(hash_str)"
   ]
  },
  {
   "cell_type": "code",
   "execution_count": 38,
   "id": "72da117f-2aae-4cb0-a8de-d0aad7235262",
   "metadata": {},
   "outputs": [
    {
     "data": {
      "text/html": [
       "<div>\n",
       "<style scoped>\n",
       "    .dataframe tbody tr th:only-of-type {\n",
       "        vertical-align: middle;\n",
       "    }\n",
       "\n",
       "    .dataframe tbody tr th {\n",
       "        vertical-align: top;\n",
       "    }\n",
       "\n",
       "    .dataframe thead th {\n",
       "        text-align: right;\n",
       "    }\n",
       "</style>\n",
       "<table border=\"1\" class=\"dataframe\">\n",
       "  <thead>\n",
       "    <tr style=\"text-align: right;\">\n",
       "      <th></th>\n",
       "      <th>container</th>\n",
       "      <th>instance</th>\n",
       "      <th>name</th>\n",
       "      <th>pod</th>\n",
       "      <th>value</th>\n",
       "    </tr>\n",
       "  </thead>\n",
       "  <tbody>\n",
       "    <tr>\n",
       "      <th>count</th>\n",
       "      <td>37627</td>\n",
       "      <td>37627</td>\n",
       "      <td>37627</td>\n",
       "      <td>37627</td>\n",
       "      <td>37627</td>\n",
       "    </tr>\n",
       "    <tr>\n",
       "      <th>unique</th>\n",
       "      <td>6</td>\n",
       "      <td>4</td>\n",
       "      <td>40</td>\n",
       "      <td>15</td>\n",
       "      <td>5786</td>\n",
       "    </tr>\n",
       "    <tr>\n",
       "      <th>top</th>\n",
       "      <td>prometheus-proxy</td>\n",
       "      <td>192.12.185.116:10250</td>\n",
       "      <td>1201b48f642f405715d25e70cd1016472c601373615343...</td>\n",
       "      <td>c1282c7f61f54d63d572ac744f476a72ddfd8e7e92c646...</td>\n",
       "      <td>0</td>\n",
       "    </tr>\n",
       "    <tr>\n",
       "      <th>freq</th>\n",
       "      <td>12169</td>\n",
       "      <td>24293</td>\n",
       "      <td>12169</td>\n",
       "      <td>4508</td>\n",
       "      <td>1132</td>\n",
       "    </tr>\n",
       "  </tbody>\n",
       "</table>\n",
       "</div>"
      ],
      "text/plain": [
       "               container              instance  \\\n",
       "count              37627                 37627   \n",
       "unique                 6                     4   \n",
       "top     prometheus-proxy  192.12.185.116:10250   \n",
       "freq               12169                 24293   \n",
       "\n",
       "                                                     name  \\\n",
       "count                                               37627   \n",
       "unique                                                 40   \n",
       "top     1201b48f642f405715d25e70cd1016472c601373615343...   \n",
       "freq                                                12169   \n",
       "\n",
       "                                                      pod  value  \n",
       "count                                               37627  37627  \n",
       "unique                                                 15   5786  \n",
       "top     c1282c7f61f54d63d572ac744f476a72ddfd8e7e92c646...      0  \n",
       "freq                                                 4508   1132  "
      ]
     },
     "execution_count": 38,
     "metadata": {},
     "output_type": "execute_result"
    }
   ],
   "source": [
    "pod_memory.describe()"
   ]
  },
  {
   "cell_type": "code",
   "execution_count": 8,
   "id": "6f1b69e1",
   "metadata": {},
   "outputs": [
    {
     "data": {
      "text/plain": [
       "c1282c7f61f54d63d572ac744f476a72ddfd8e7e92c6468253123977    4508\n",
       "41f66791129354174d3953cdd59299aabebf4b796840949bc1d51c7f    3381\n",
       "6a264c580f88d15ba26424daaf49f841d0dc157f2435f7ad6d52d01a    3255\n",
       "3ad81758644b0153ee5432f5720d0c3857eb9f8e407a694843ca0eef    3201\n",
       "6d679893fdfb604fc76e01d2445ce75d524670ad9a5c009f3c05957c    3201\n",
       "9aaf637427a80f834a90fef511e5f158fa1a0d8a46fe8cf04a21f07b    3201\n",
       "8db5cc0ce1ed5fd2b6b4d0c074d67a07200ad473068367f7a2f17254    3201\n",
       "e88fa6086c09af60cf3c2ac41dd9160329e59c448c226cc324b76a5e    2591\n",
       "a6970dc782504830a8d828b55a48170e3ec54ac0f77b040e0920da74    2580\n",
       "2e32cda2c4b8f19448deb92072c9813eaefa2fa667b8aecdb09d790f    2377\n",
       "f3ded8962b719f430627773f7e3bc2f3e66dc89ce15ee5adfe6b5a58    1815\n",
       "caa158c2d6f86d379c95848558839fe9c8bbd249fa301a33f5ecb49c    1815\n",
       "042b1a4a2eb31b71f766fab1ee96b951f6e601ed1cae9166b86bbef7    1815\n",
       "f94464d2a96457510fd566835a3f16d42e66456b75e64eb3f9c44b19     458\n",
       "6a124f896a468cc684b8d2bb2b16aba2db98e4061fe50fa443a28f1a     228\n",
       "Name: pod, dtype: int64"
      ]
     },
     "execution_count": 8,
     "metadata": {},
     "output_type": "execute_result"
    }
   ],
   "source": [
    "## Look at all the pods that have values for these metrics\n",
    "pod_memory[\"pod\"].value_counts()"
   ]
  },
  {
   "cell_type": "code",
   "execution_count": 9,
   "id": "db968efb",
   "metadata": {},
   "outputs": [],
   "source": [
    "## Save the csv\n",
    "pod_memory.to_parquet(\"../data/processed/jupyterhub/metrics/pod_memory.parquet\")"
   ]
  },
  {
   "cell_type": "markdown",
   "id": "952c9bae",
   "metadata": {},
   "source": [
    "#### CPU"
   ]
  },
  {
   "cell_type": "code",
   "execution_count": 10,
   "id": "4d0d844f",
   "metadata": {},
   "outputs": [],
   "source": [
    "# Collect cpu logs\n",
    "pod_cpu = fetch_metric(\n",
    "    \"container_cpu_usage_seconds_total{\\\n",
    "                            namespace='opf-jupyterhub',\\\n",
    "                            pod=~'jupyterhub.*'}\",\n",
    "    start_time,\n",
    "    end_time,\n",
    ")"
   ]
  },
  {
   "cell_type": "code",
   "execution_count": 11,
   "id": "2241c3b0-3527-4017-a319-ec1038557c0e",
   "metadata": {},
   "outputs": [],
   "source": [
    "pod_cpu = pod_cpu[[\"container\", \"instance\", \"name\", \"pod\", \"value\"]]\n",
    "pod_cpu[\"pod\"] = pod_cpu[\"pod\"].apply(hash_str)\n",
    "pod_cpu[\"name\"] = pod_cpu[\"name\"].astype(str).apply(hash_str)"
   ]
  },
  {
   "cell_type": "code",
   "execution_count": 12,
   "id": "e8d34ed0",
   "metadata": {},
   "outputs": [
    {
     "data": {
      "text/plain": [
       "41f66791129354174d3953cdd59299aabebf4b796840949bc1d51c7f    3390\n",
       "c1282c7f61f54d63d572ac744f476a72ddfd8e7e92c6468253123977    3381\n",
       "6a264c580f88d15ba26424daaf49f841d0dc157f2435f7ad6d52d01a    2958\n",
       "3ad81758644b0153ee5432f5720d0c3857eb9f8e407a694843ca0eef    2904\n",
       "6d679893fdfb604fc76e01d2445ce75d524670ad9a5c009f3c05957c    2904\n",
       "9aaf637427a80f834a90fef511e5f158fa1a0d8a46fe8cf04a21f07b    2904\n",
       "8db5cc0ce1ed5fd2b6b4d0c074d67a07200ad473068367f7a2f17254    2904\n",
       "e88fa6086c09af60cf3c2ac41dd9160329e59c448c226cc324b76a5e    2291\n",
       "a6970dc782504830a8d828b55a48170e3ec54ac0f77b040e0920da74    2283\n",
       "2e32cda2c4b8f19448deb92072c9813eaefa2fa667b8aecdb09d790f    2080\n",
       "f3ded8962b719f430627773f7e3bc2f3e66dc89ce15ee5adfe6b5a58    1815\n",
       "caa158c2d6f86d379c95848558839fe9c8bbd249fa301a33f5ecb49c    1815\n",
       "042b1a4a2eb31b71f766fab1ee96b951f6e601ed1cae9166b86bbef7    1815\n",
       "f94464d2a96457510fd566835a3f16d42e66456b75e64eb3f9c44b19     456\n",
       "6a124f896a468cc684b8d2bb2b16aba2db98e4061fe50fa443a28f1a     228\n",
       "Name: pod, dtype: int64"
      ]
     },
     "execution_count": 12,
     "metadata": {},
     "output_type": "execute_result"
    }
   ],
   "source": [
    "## Look at all the pods that have values for these metrics\n",
    "pod_cpu[\"pod\"].value_counts()"
   ]
  },
  {
   "cell_type": "code",
   "execution_count": 13,
   "id": "ad01abea",
   "metadata": {},
   "outputs": [],
   "source": [
    "## Save the csv\n",
    "pod_cpu.to_parquet(\"../data/processed/jupyterhub/metrics/pod_cpu.parquet\")"
   ]
  },
  {
   "cell_type": "markdown",
   "id": "b317e004",
   "metadata": {},
   "source": [
    "#### PVC"
   ]
  },
  {
   "cell_type": "code",
   "execution_count": 14,
   "id": "d256537e",
   "metadata": {},
   "outputs": [],
   "source": [
    "# Collect pvc metrics\n",
    "pod_pvc = fetch_metric(\n",
    "    \"kubelet_volume_stats_used_bytes{namespace='opf-jupyterhub',\\\n",
    "                            persistentvolumeclaim=~'jupyterhub.*',\\\n",
    "                            pod='prometheus-k8s-0'}\",\n",
    "    start_time,\n",
    "    end_time,\n",
    ")"
   ]
  },
  {
   "cell_type": "code",
   "execution_count": 15,
   "id": "5582ac30-d7ff-4c94-9873-2b4bf868f9f1",
   "metadata": {},
   "outputs": [
    {
     "data": {
      "text/html": [
       "<div>\n",
       "<style scoped>\n",
       "    .dataframe tbody tr th:only-of-type {\n",
       "        vertical-align: middle;\n",
       "    }\n",
       "\n",
       "    .dataframe tbody tr th {\n",
       "        vertical-align: top;\n",
       "    }\n",
       "\n",
       "    .dataframe thead th {\n",
       "        text-align: right;\n",
       "    }\n",
       "</style>\n",
       "<table border=\"1\" class=\"dataframe\">\n",
       "  <thead>\n",
       "    <tr style=\"text-align: right;\">\n",
       "      <th></th>\n",
       "      <th>__name__</th>\n",
       "      <th>container</th>\n",
       "      <th>endpoint</th>\n",
       "      <th>instance</th>\n",
       "      <th>job</th>\n",
       "      <th>metrics_path</th>\n",
       "      <th>namespace</th>\n",
       "      <th>node</th>\n",
       "      <th>persistentvolumeclaim</th>\n",
       "      <th>pod</th>\n",
       "      <th>prometheus</th>\n",
       "      <th>receive</th>\n",
       "      <th>service</th>\n",
       "      <th>tenant_id</th>\n",
       "      <th>value</th>\n",
       "    </tr>\n",
       "  </thead>\n",
       "  <tbody>\n",
       "    <tr>\n",
       "      <th>count</th>\n",
       "      <td>13072</td>\n",
       "      <td>13072</td>\n",
       "      <td>13072</td>\n",
       "      <td>13072</td>\n",
       "      <td>13072</td>\n",
       "      <td>13072</td>\n",
       "      <td>13072</td>\n",
       "      <td>13072</td>\n",
       "      <td>13072</td>\n",
       "      <td>13072</td>\n",
       "      <td>13072</td>\n",
       "      <td>13072</td>\n",
       "      <td>13072</td>\n",
       "      <td>13072</td>\n",
       "      <td>13072</td>\n",
       "    </tr>\n",
       "    <tr>\n",
       "      <th>unique</th>\n",
       "      <td>1</td>\n",
       "      <td>1</td>\n",
       "      <td>1</td>\n",
       "      <td>3</td>\n",
       "      <td>1</td>\n",
       "      <td>1</td>\n",
       "      <td>1</td>\n",
       "      <td>3</td>\n",
       "      <td>14</td>\n",
       "      <td>1</td>\n",
       "      <td>1</td>\n",
       "      <td>1</td>\n",
       "      <td>1</td>\n",
       "      <td>1</td>\n",
       "      <td>39</td>\n",
       "    </tr>\n",
       "    <tr>\n",
       "      <th>top</th>\n",
       "      <td>kubelet_volume_stats_used_bytes</td>\n",
       "      <td>prometheus-proxy</td>\n",
       "      <td>https-metrics</td>\n",
       "      <td>192.12.185.116:10250</td>\n",
       "      <td>kubelet</td>\n",
       "      <td>/metrics</td>\n",
       "      <td>opf-jupyterhub</td>\n",
       "      <td>os-wrk-1</td>\n",
       "      <td>jupyterhub-nb-kachauha-40redhat-2ecom-pvc</td>\n",
       "      <td>prometheus-k8s-0</td>\n",
       "      <td>openshift-monitoring/k8s</td>\n",
       "      <td>true</td>\n",
       "      <td>kubelet</td>\n",
       "      <td>default-tenant</td>\n",
       "      <td>16777216</td>\n",
       "    </tr>\n",
       "    <tr>\n",
       "      <th>freq</th>\n",
       "      <td>13072</td>\n",
       "      <td>13072</td>\n",
       "      <td>13072</td>\n",
       "      <td>8535</td>\n",
       "      <td>13072</td>\n",
       "      <td>13072</td>\n",
       "      <td>13072</td>\n",
       "      <td>8535</td>\n",
       "      <td>1135</td>\n",
       "      <td>13072</td>\n",
       "      <td>13072</td>\n",
       "      <td>13072</td>\n",
       "      <td>13072</td>\n",
       "      <td>13072</td>\n",
       "      <td>1135</td>\n",
       "    </tr>\n",
       "  </tbody>\n",
       "</table>\n",
       "</div>"
      ],
      "text/plain": [
       "                               __name__         container       endpoint  \\\n",
       "count                             13072             13072          13072   \n",
       "unique                                1                 1              1   \n",
       "top     kubelet_volume_stats_used_bytes  prometheus-proxy  https-metrics   \n",
       "freq                              13072             13072          13072   \n",
       "\n",
       "                    instance      job metrics_path       namespace      node  \\\n",
       "count                  13072    13072        13072           13072     13072   \n",
       "unique                     3        1            1               1         3   \n",
       "top     192.12.185.116:10250  kubelet     /metrics  opf-jupyterhub  os-wrk-1   \n",
       "freq                    8535    13072        13072           13072      8535   \n",
       "\n",
       "                            persistentvolumeclaim               pod  \\\n",
       "count                                       13072             13072   \n",
       "unique                                         14                 1   \n",
       "top     jupyterhub-nb-kachauha-40redhat-2ecom-pvc  prometheus-k8s-0   \n",
       "freq                                         1135             13072   \n",
       "\n",
       "                      prometheus receive  service       tenant_id     value  \n",
       "count                      13072   13072    13072           13072     13072  \n",
       "unique                         1       1        1               1        39  \n",
       "top     openshift-monitoring/k8s    true  kubelet  default-tenant  16777216  \n",
       "freq                       13072   13072    13072           13072      1135  "
      ]
     },
     "execution_count": 15,
     "metadata": {},
     "output_type": "execute_result"
    }
   ],
   "source": [
    "pod_pvc.describe()"
   ]
  },
  {
   "cell_type": "code",
   "execution_count": 16,
   "id": "daa8e5e8-faab-44a6-9d60-c90657fb3a7b",
   "metadata": {},
   "outputs": [],
   "source": [
    "pod_pvc = pod_pvc[[\"container\", \"instance\", \"persistentvolumeclaim\", \"value\"]]\n",
    "pod_pvc[\"persistentvolumeclaim\"] = pod_pvc[\"persistentvolumeclaim\"].apply(hash_str)"
   ]
  },
  {
   "cell_type": "code",
   "execution_count": 17,
   "id": "e743add7",
   "metadata": {},
   "outputs": [
    {
     "data": {
      "text/plain": [
       "b9adb41e417ee68a2b99a170dba5625a71491bcd29c0889ae8a78f2d    1135\n",
       "82232eee735d53b2126d2aa3d73783cda871b14fc90641be4b5a478b    1135\n",
       "60cb5055d7c3251ae31d811f3dd528d90b78d4a0f50b519e75648c5e    1135\n",
       "63a97d20e91883473246fb83756a6aa0cdbfbbd9571cbda32f2d0e73    1135\n",
       "019f8493c120a6f58e27fca3e4d1525d368d9aa46bc5dc39cd756591    1135\n",
       "c6069e0be16f260b090af702553d8d2e41a29c8e944e6b1a33638a2d    1134\n",
       "56a655de0da5c8eec8f4f4ffffb6b3b97db9c1ccaa509f328a19e0b0    1134\n",
       "fcc294052b2bc5413195a7d1a2412c0006af5ed3c2abe7b2e111279c    1134\n",
       "6dd8ec0bac58ca547d160ff8885107290fb16ac7a968ddb39af8b104    1102\n",
       "1bd8d43ea2dd39d86a1aa2ae009e9bc1845cf70260ca5f13ecbbe10b     930\n",
       "150820c81c88af602708fda887f81cc4c84526234b58f64da54be0b4     928\n",
       "f5925df9d4ac7eea96cdd6593a36acb2cfca18cfa1a21812d3859ba9     808\n",
       "d449b59b5a18587c2509aa0a7d0235bb19d83e289b94bec3c3ee7cc5     151\n",
       "603b04f8eb9f6fb0336e44e05f7f41a96ba97b7858b451688d85f86e      76\n",
       "Name: persistentvolumeclaim, dtype: int64"
      ]
     },
     "execution_count": 17,
     "metadata": {},
     "output_type": "execute_result"
    }
   ],
   "source": [
    "## Look at all the pods that have values for these metrics\n",
    "pod_pvc[\"persistentvolumeclaim\"].value_counts()"
   ]
  },
  {
   "cell_type": "code",
   "execution_count": 18,
   "id": "cbaba30b",
   "metadata": {},
   "outputs": [],
   "source": [
    "# Save the csv\n",
    "pod_pvc.to_parquet(\"../data/processed/jupyterhub/metrics/pod_pvc.parquet\")"
   ]
  },
  {
   "cell_type": "markdown",
   "id": "b6f408b1",
   "metadata": {},
   "source": [
    "#### Pod status"
   ]
  },
  {
   "cell_type": "code",
   "execution_count": 19,
   "id": "ff92f070",
   "metadata": {},
   "outputs": [],
   "source": [
    "## Collect pod waiting and terminated status\n",
    "pod_waiting_status = fetch_metric(\n",
    "    \"kube_pod_container_status_waiting_reason{namespace='opf-jupyterhub',\\\n",
    "                              pod=~'jupyterhub.*', prometheus_replica='prometheus-k8s-0'}\",\n",
    "    start_time,\n",
    "    end_time,\n",
    ")\n",
    "\n",
    "pod_terminated_status = fetch_metric(\n",
    "    \"kube_pod_container_status_terminated_reason{namespace='opf-jupyterhub',\\\n",
    "                              pod=~'jupyterhub.*', prometheus_replica='prometheus-k8s-0'}\",\n",
    "    start_time,\n",
    "    end_time,\n",
    ")"
   ]
  },
  {
   "cell_type": "code",
   "execution_count": 20,
   "id": "2cb796e2-8c2c-4d24-88b8-e95b5e98ad70",
   "metadata": {},
   "outputs": [],
   "source": [
    "pod_waiting_status = pod_waiting_status[[\"container\", \"pod\", \"reason\", \"value\"]]\n",
    "pod_waiting_status[\"pod\"] = pod_waiting_status[\"pod\"].apply(hash_str)\n",
    "\n",
    "pod_terminated_status = pod_terminated_status[[\"container\", \"pod\", \"reason\", \"value\"]]\n",
    "pod_terminated_status[\"pod\"] = pod_terminated_status[\"pod\"].apply(hash_str)"
   ]
  },
  {
   "cell_type": "code",
   "execution_count": 21,
   "id": "fb799bcd",
   "metadata": {},
   "outputs": [
    {
     "data": {
      "text/plain": [
       "3ad81758644b0153ee5432f5720d0c3857eb9f8e407a694843ca0eef    7945\n",
       "9aaf637427a80f834a90fef511e5f158fa1a0d8a46fe8cf04a21f07b    7945\n",
       "caa158c2d6f86d379c95848558839fe9c8bbd249fa301a33f5ecb49c    7945\n",
       "8db5cc0ce1ed5fd2b6b4d0c074d67a07200ad473068367f7a2f17254    7945\n",
       "f3ded8962b719f430627773f7e3bc2f3e66dc89ce15ee5adfe6b5a58    7945\n",
       "c1282c7f61f54d63d572ac744f476a72ddfd8e7e92c6468253123977    7945\n",
       "41f66791129354174d3953cdd59299aabebf4b796840949bc1d51c7f    7945\n",
       "6d679893fdfb604fc76e01d2445ce75d524670ad9a5c009f3c05957c    7945\n",
       "042b1a4a2eb31b71f766fab1ee96b951f6e601ed1cae9166b86bbef7    7945\n",
       "6a264c580f88d15ba26424daaf49f841d0dc157f2435f7ad6d52d01a    7714\n",
       "e88fa6086c09af60cf3c2ac41dd9160329e59c448c226cc324b76a5e    6517\n",
       "a6970dc782504830a8d828b55a48170e3ec54ac0f77b040e0920da74    6503\n",
       "2e32cda2c4b8f19448deb92072c9813eaefa2fa667b8aecdb09d790f    5663\n",
       "f94464d2a96457510fd566835a3f16d42e66456b75e64eb3f9c44b19    1071\n",
       "6a124f896a468cc684b8d2bb2b16aba2db98e4061fe50fa443a28f1a     532\n",
       "Name: pod, dtype: int64"
      ]
     },
     "execution_count": 21,
     "metadata": {},
     "output_type": "execute_result"
    }
   ],
   "source": [
    "## Look at all the pods that have values for these metrics\n",
    "pod_waiting_status[\"pod\"].value_counts()"
   ]
  },
  {
   "cell_type": "code",
   "execution_count": 22,
   "id": "e656fcc3",
   "metadata": {},
   "outputs": [
    {
     "data": {
      "text/plain": [
       "3ad81758644b0153ee5432f5720d0c3857eb9f8e407a694843ca0eef    6810\n",
       "9aaf637427a80f834a90fef511e5f158fa1a0d8a46fe8cf04a21f07b    6810\n",
       "caa158c2d6f86d379c95848558839fe9c8bbd249fa301a33f5ecb49c    6810\n",
       "8db5cc0ce1ed5fd2b6b4d0c074d67a07200ad473068367f7a2f17254    6810\n",
       "f3ded8962b719f430627773f7e3bc2f3e66dc89ce15ee5adfe6b5a58    6810\n",
       "c1282c7f61f54d63d572ac744f476a72ddfd8e7e92c6468253123977    6810\n",
       "41f66791129354174d3953cdd59299aabebf4b796840949bc1d51c7f    6810\n",
       "6d679893fdfb604fc76e01d2445ce75d524670ad9a5c009f3c05957c    6810\n",
       "042b1a4a2eb31b71f766fab1ee96b951f6e601ed1cae9166b86bbef7    6810\n",
       "6a264c580f88d15ba26424daaf49f841d0dc157f2435f7ad6d52d01a    6612\n",
       "e88fa6086c09af60cf3c2ac41dd9160329e59c448c226cc324b76a5e    5586\n",
       "a6970dc782504830a8d828b55a48170e3ec54ac0f77b040e0920da74    5574\n",
       "2e32cda2c4b8f19448deb92072c9813eaefa2fa667b8aecdb09d790f    4854\n",
       "f94464d2a96457510fd566835a3f16d42e66456b75e64eb3f9c44b19     918\n",
       "6a124f896a468cc684b8d2bb2b16aba2db98e4061fe50fa443a28f1a     456\n",
       "Name: pod, dtype: int64"
      ]
     },
     "execution_count": 22,
     "metadata": {},
     "output_type": "execute_result"
    }
   ],
   "source": [
    "pod_terminated_status[\"pod\"].value_counts()"
   ]
  },
  {
   "cell_type": "code",
   "execution_count": 23,
   "id": "af5986c4",
   "metadata": {},
   "outputs": [
    {
     "data": {
      "text/plain": [
       "CreateContainerError          14215\n",
       "ImagePullBackOff              14215\n",
       "InvalidImageName              14215\n",
       "CrashLoopBackOff              14215\n",
       "ErrImagePull                  14215\n",
       "CreateContainerConfigError    14215\n",
       "ContainerCreating             14215\n",
       "Name: reason, dtype: int64"
      ]
     },
     "execution_count": 23,
     "metadata": {},
     "output_type": "execute_result"
    }
   ],
   "source": [
    "pod_waiting_status.reason.value_counts()"
   ]
  },
  {
   "cell_type": "code",
   "execution_count": 24,
   "id": "14c2ea8c",
   "metadata": {},
   "outputs": [
    {
     "data": {
      "text/plain": [
       "Error                 14215\n",
       "ContainerCannotRun    14215\n",
       "Evicted               14215\n",
       "DeadlineExceeded      14215\n",
       "Completed             14215\n",
       "OOMKilled             14215\n",
       "Name: reason, dtype: int64"
      ]
     },
     "execution_count": 24,
     "metadata": {},
     "output_type": "execute_result"
    }
   ],
   "source": [
    "pod_terminated_status.reason.value_counts()"
   ]
  },
  {
   "cell_type": "code",
   "execution_count": 25,
   "id": "379c107f",
   "metadata": {},
   "outputs": [],
   "source": [
    "## Save the csv\n",
    "pod_waiting_status.to_parquet(\n",
    "    \"../data/processed/jupyterhub/metrics/pod_waiting_status.parquet\"\n",
    ")\n",
    "pod_terminated_status.to_parquet(\n",
    "    \"../data/processed/jupyterhub/metrics/pod_terminated_status.parquet\"\n",
    ")"
   ]
  },
  {
   "cell_type": "markdown",
   "id": "4e23bbf1",
   "metadata": {},
   "source": [
    "## Events\n",
    "In this section we are going to look at the events collected from the pods. In order to fetch events, we need to install oc, login into the openshift namespace and execute the following command\n",
    "\n",
    "```\n",
    "#!/bin/sh\n",
    "\n",
    "for i in {0..9}; do\n",
    "    echo \"#$i Attempt\"\n",
    "    oc get events --watch-only --output=jsonpath='{@}{\"\\n\"}' > events-zero.massopen.cloud-$i.ndjson\n",
    "done\n",
    "\n",
    "```\n",
    "In the next cells, we will read and inspect already collected data."
   ]
  },
  {
   "cell_type": "code",
   "execution_count": 26,
   "id": "6a98de03",
   "metadata": {},
   "outputs": [],
   "source": [
    "## Read events data from the raw folder\n",
    "## This cell may not work if you don't have access\n",
    "## to raw events data, use processed data instead\n",
    "events = []\n",
    "for i in range(14):\n",
    "    events.append(\n",
    "        pd.read_json(\n",
    "            f\"../data/raw/jupyterhub/events/events-zero.massopen.cloud-{i}.ndjson\",\n",
    "            lines=True,\n",
    "        )\n",
    "    )\n",
    "events_df = pd.concat(events).reset_index().drop(\"index\", axis=1)"
   ]
  },
  {
   "cell_type": "code",
   "execution_count": 27,
   "id": "00054d3c",
   "metadata": {},
   "outputs": [],
   "source": [
    "## Extract example columns\n",
    "events_df[\"pod\"] = events_df[\"involvedObject\"].apply(lambda x: x[\"name\"])\n",
    "events_df = events_df[[\"firstTimestamp\", \"lastTimestamp\", \"pod\", \"message\", \"reason\"]]"
   ]
  },
  {
   "cell_type": "code",
   "execution_count": 28,
   "id": "32fb96fb-0ca4-448e-ba2a-ea99870ea7af",
   "metadata": {},
   "outputs": [
    {
     "data": {
      "text/html": [
       "<div>\n",
       "<style scoped>\n",
       "    .dataframe tbody tr th:only-of-type {\n",
       "        vertical-align: middle;\n",
       "    }\n",
       "\n",
       "    .dataframe tbody tr th {\n",
       "        vertical-align: top;\n",
       "    }\n",
       "\n",
       "    .dataframe thead th {\n",
       "        text-align: right;\n",
       "    }\n",
       "</style>\n",
       "<table border=\"1\" class=\"dataframe\">\n",
       "  <thead>\n",
       "    <tr style=\"text-align: right;\">\n",
       "      <th></th>\n",
       "      <th>firstTimestamp</th>\n",
       "      <th>lastTimestamp</th>\n",
       "      <th>pod</th>\n",
       "      <th>message</th>\n",
       "      <th>reason</th>\n",
       "    </tr>\n",
       "  </thead>\n",
       "  <tbody>\n",
       "    <tr>\n",
       "      <th>0</th>\n",
       "      <td>2021-04-28T13:09:15Z</td>\n",
       "      <td>2021-04-28T13:09:15Z</td>\n",
       "      <td>46370ba3277c53edd8e4777f9308dc0b46d77e145b31f1...</td>\n",
       "      <td>Successfully pulled image bb4166c2fdb2499c6ff8...</td>\n",
       "      <td>Pulled</td>\n",
       "    </tr>\n",
       "    <tr>\n",
       "      <th>1</th>\n",
       "      <td>2021-04-28T16:14:41Z</td>\n",
       "      <td>2021-04-28T16:14:41Z</td>\n",
       "      <td>e88fa6086c09af60cf3c2ac41dd9160329e59c448c226c...</td>\n",
       "      <td>Successfully assigned opf-jupyterhub/e88fa6086...</td>\n",
       "      <td>Scheduled</td>\n",
       "    </tr>\n",
       "    <tr>\n",
       "      <th>2</th>\n",
       "      <td>2021-04-28T16:14:41Z</td>\n",
       "      <td>2021-04-28T16:14:41Z</td>\n",
       "      <td>e88fa6086c09af60cf3c2ac41dd9160329e59c448c226c...</td>\n",
       "      <td>AttachVolume.Attach succeeded for volume \"pvc-...</td>\n",
       "      <td>SuccessfulAttachVolume</td>\n",
       "    </tr>\n",
       "    <tr>\n",
       "      <th>3</th>\n",
       "      <td>2021-04-28T16:14:51Z</td>\n",
       "      <td>2021-04-28T16:14:51Z</td>\n",
       "      <td>e88fa6086c09af60cf3c2ac41dd9160329e59c448c226c...</td>\n",
       "      <td>Add eth0 [10.131.3.3/23]</td>\n",
       "      <td>AddedInterface</td>\n",
       "    </tr>\n",
       "    <tr>\n",
       "      <th>4</th>\n",
       "      <td>2021-04-28T16:14:52Z</td>\n",
       "      <td>2021-04-28T16:14:52Z</td>\n",
       "      <td>e88fa6086c09af60cf3c2ac41dd9160329e59c448c226c...</td>\n",
       "      <td>Container image fef6e077b696175290bf407f68e6ae...</td>\n",
       "      <td>Pulled</td>\n",
       "    </tr>\n",
       "    <tr>\n",
       "      <th>...</th>\n",
       "      <td>...</td>\n",
       "      <td>...</td>\n",
       "      <td>...</td>\n",
       "      <td>...</td>\n",
       "      <td>...</td>\n",
       "    </tr>\n",
       "    <tr>\n",
       "      <th>173</th>\n",
       "      <td>2021-04-26T19:12:43Z</td>\n",
       "      <td>2021-04-29T12:30:14Z</td>\n",
       "      <td>46370ba3277c53edd8e4777f9308dc0b46d77e145b31f1...</td>\n",
       "      <td>Pulling image bb4166c2fdb2499c6ff82f4787d3aad3...</td>\n",
       "      <td>Pulling</td>\n",
       "    </tr>\n",
       "    <tr>\n",
       "      <th>174</th>\n",
       "      <td>2021-04-29T12:30:14Z</td>\n",
       "      <td>2021-04-29T12:30:14Z</td>\n",
       "      <td>46370ba3277c53edd8e4777f9308dc0b46d77e145b31f1...</td>\n",
       "      <td>Successfully pulled image bb4166c2fdb2499c6ff8...</td>\n",
       "      <td>Pulled</td>\n",
       "    </tr>\n",
       "    <tr>\n",
       "      <th>175</th>\n",
       "      <td>2021-04-26T19:13:08Z</td>\n",
       "      <td>2021-04-29T12:30:14Z</td>\n",
       "      <td>46370ba3277c53edd8e4777f9308dc0b46d77e145b31f1...</td>\n",
       "      <td>Created container ray-operator</td>\n",
       "      <td>Created</td>\n",
       "    </tr>\n",
       "    <tr>\n",
       "      <th>176</th>\n",
       "      <td>2021-04-26T19:13:08Z</td>\n",
       "      <td>2021-04-29T12:30:14Z</td>\n",
       "      <td>46370ba3277c53edd8e4777f9308dc0b46d77e145b31f1...</td>\n",
       "      <td>Started container ray-operator</td>\n",
       "      <td>Started</td>\n",
       "    </tr>\n",
       "    <tr>\n",
       "      <th>177</th>\n",
       "      <td>2021-04-29T09:47:33Z</td>\n",
       "      <td>2021-04-29T09:47:33Z</td>\n",
       "      <td>46370ba3277c53edd8e4777f9308dc0b46d77e145b31f1...</td>\n",
       "      <td>Successfully pulled image bb4166c2fdb2499c6ff8...</td>\n",
       "      <td>Pulled</td>\n",
       "    </tr>\n",
       "  </tbody>\n",
       "</table>\n",
       "<p>178 rows × 5 columns</p>\n",
       "</div>"
      ],
      "text/plain": [
       "           firstTimestamp         lastTimestamp  \\\n",
       "0    2021-04-28T13:09:15Z  2021-04-28T13:09:15Z   \n",
       "1    2021-04-28T16:14:41Z  2021-04-28T16:14:41Z   \n",
       "2    2021-04-28T16:14:41Z  2021-04-28T16:14:41Z   \n",
       "3    2021-04-28T16:14:51Z  2021-04-28T16:14:51Z   \n",
       "4    2021-04-28T16:14:52Z  2021-04-28T16:14:52Z   \n",
       "..                    ...                   ...   \n",
       "173  2021-04-26T19:12:43Z  2021-04-29T12:30:14Z   \n",
       "174  2021-04-29T12:30:14Z  2021-04-29T12:30:14Z   \n",
       "175  2021-04-26T19:13:08Z  2021-04-29T12:30:14Z   \n",
       "176  2021-04-26T19:13:08Z  2021-04-29T12:30:14Z   \n",
       "177  2021-04-29T09:47:33Z  2021-04-29T09:47:33Z   \n",
       "\n",
       "                                                   pod  \\\n",
       "0    46370ba3277c53edd8e4777f9308dc0b46d77e145b31f1...   \n",
       "1    e88fa6086c09af60cf3c2ac41dd9160329e59c448c226c...   \n",
       "2    e88fa6086c09af60cf3c2ac41dd9160329e59c448c226c...   \n",
       "3    e88fa6086c09af60cf3c2ac41dd9160329e59c448c226c...   \n",
       "4    e88fa6086c09af60cf3c2ac41dd9160329e59c448c226c...   \n",
       "..                                                 ...   \n",
       "173  46370ba3277c53edd8e4777f9308dc0b46d77e145b31f1...   \n",
       "174  46370ba3277c53edd8e4777f9308dc0b46d77e145b31f1...   \n",
       "175  46370ba3277c53edd8e4777f9308dc0b46d77e145b31f1...   \n",
       "176  46370ba3277c53edd8e4777f9308dc0b46d77e145b31f1...   \n",
       "177  46370ba3277c53edd8e4777f9308dc0b46d77e145b31f1...   \n",
       "\n",
       "                                               message                  reason  \n",
       "0    Successfully pulled image bb4166c2fdb2499c6ff8...                  Pulled  \n",
       "1    Successfully assigned opf-jupyterhub/e88fa6086...               Scheduled  \n",
       "2    AttachVolume.Attach succeeded for volume \"pvc-...  SuccessfulAttachVolume  \n",
       "3                             Add eth0 [10.131.3.3/23]          AddedInterface  \n",
       "4    Container image fef6e077b696175290bf407f68e6ae...                  Pulled  \n",
       "..                                                 ...                     ...  \n",
       "173  Pulling image bb4166c2fdb2499c6ff82f4787d3aad3...                 Pulling  \n",
       "174  Successfully pulled image bb4166c2fdb2499c6ff8...                  Pulled  \n",
       "175                     Created container ray-operator                 Created  \n",
       "176                     Started container ray-operator                 Started  \n",
       "177  Successfully pulled image bb4166c2fdb2499c6ff8...                  Pulled  \n",
       "\n",
       "[178 rows x 5 columns]"
      ]
     },
     "execution_count": 28,
     "metadata": {},
     "output_type": "execute_result"
    }
   ],
   "source": [
    "events_df[\"message\"] = events_df[\"message\"].apply(hash_quay_image)\n",
    "events_df[\"message\"] = events_df[\"message\"].apply(hash_podname)\n",
    "events_df[\"pod\"] = events_df[\"pod\"].apply(hash_str)\n",
    "events_df"
   ]
  },
  {
   "cell_type": "code",
   "execution_count": 29,
   "id": "d576842c",
   "metadata": {},
   "outputs": [
    {
     "data": {
      "text/plain": [
       "46370ba3277c53edd8e4777f9308dc0b46d77e145b31f11a3090f9e6    65\n",
       "5aa202ea4fee731c09354b963edbb5ec884ee611a75941939f9f415e    25\n",
       "f94464d2a96457510fd566835a3f16d42e66456b75e64eb3f9c44b19    22\n",
       "2e32cda2c4b8f19448deb92072c9813eaefa2fa667b8aecdb09d790f    18\n",
       "a6970dc782504830a8d828b55a48170e3ec54ac0f77b040e0920da74    15\n",
       "6a264c580f88d15ba26424daaf49f841d0dc157f2435f7ad6d52d01a    14\n",
       "e88fa6086c09af60cf3c2ac41dd9160329e59c448c226cc324b76a5e    12\n",
       "150820c81c88af602708fda887f81cc4c84526234b58f64da54be0b4     6\n",
       "6a124f896a468cc684b8d2bb2b16aba2db98e4061fe50fa443a28f1a     1\n",
       "Name: pod, dtype: int64"
      ]
     },
     "execution_count": 29,
     "metadata": {},
     "output_type": "execute_result"
    }
   ],
   "source": [
    "## Look at the pods from which we got the events\n",
    "events_df[\"pod\"].value_counts()"
   ]
  },
  {
   "cell_type": "code",
   "execution_count": 30,
   "id": "b9dfa92b-f36d-4d3c-a5a2-f900373437f9",
   "metadata": {},
   "outputs": [],
   "source": [
    "events_df.to_parquet(\"../data/processed/jupyterhub/events/events.parquet\")"
   ]
  },
  {
   "cell_type": "markdown",
   "id": "befe1401",
   "metadata": {},
   "source": [
    "## Logs\n",
    "\n",
    "In the next section, we query logs through loki."
   ]
  },
  {
   "cell_type": "code",
   "execution_count": null,
   "id": "c1bc8ab8",
   "metadata": {},
   "outputs": [],
   "source": [
    "## Define the server and the query\n",
    "query = '{k8s_namespace_name=\"opf-jupyterhub\"}'\n",
    "url = \"http://loki-frontend-opf-observatorium.apps.zero.massopen.cloud/loki/api/v1/query_range\"\n",
    "headers = {\n",
    "    \"content-type\": \"application/json\",\n",
    "    \"X-Scope-OrgID\": \"cluster-app-logs\",\n",
    "}"
   ]
  },
  {
   "cell_type": "code",
   "execution_count": null,
   "id": "a88c6507",
   "metadata": {},
   "outputs": [],
   "source": [
    "## Set start and end times\n",
    "## We fetch data on an hourly basis for 24 hours\n",
    "## so that it doesn't stress the server\n",
    "\n",
    "date_range = (\n",
    "    pd.date_range(start=(datetime(2021, 4, 28, 12)), periods=25, freq=\"H\")\n",
    "    .to_pydatetime()\n",
    "    .tolist()\n",
    ")\n",
    "date_range_timestamp = [\n",
    "    str(int(datetime.timestamp(i)) * 1000000000) for i in date_range\n",
    "]\n",
    "start_end_times = [\n",
    "    [date_range_timestamp[i], date_range_timestamp[i + 1]]\n",
    "    for i in range(len(date_range_timestamp) - 1)\n",
    "]"
   ]
  },
  {
   "cell_type": "code",
   "execution_count": null,
   "id": "d3802933",
   "metadata": {},
   "outputs": [],
   "source": [
    "for e, i in enumerate(start_end_times):\n",
    "    params = {\"query\": query, \"start\": i[0], \"end\": i[1]}\n",
    "    logs = requests.get(url, params=params, headers=headers).json()\n",
    "    output_file = f\"../data/raw/jupyterhub/logs/logs_{e}.json\"\n",
    "    with open(output_file, \"w\") as f:\n",
    "        json.dump(logs, f)"
   ]
  },
  {
   "cell_type": "code",
   "execution_count": 31,
   "id": "ac3b937f",
   "metadata": {},
   "outputs": [],
   "source": [
    "## Read the fetched logs\n",
    "## This cell may not work if you don't have access\n",
    "## to raw logs data, use processed data instead\n",
    "logs = []\n",
    "for i in range(24):\n",
    "    with open(f\"../data/raw/jupyterhub/logs/logs_{i}.json\") as f:\n",
    "        logs_t = json.load(f)\n",
    "    logs.append(logs_t[\"data\"][\"result\"][0][\"values\"])"
   ]
  },
  {
   "cell_type": "code",
   "execution_count": 32,
   "id": "672e0bc0",
   "metadata": {},
   "outputs": [],
   "source": [
    "## Make the dataframe with relevant columns\n",
    "logs_data = []\n",
    "for log in logs:\n",
    "    for log_line in log:\n",
    "        dc = json.loads(log_line[1])\n",
    "        pod = dc[\"kubernetes.pod_name\"]\n",
    "        namespace = dc[\"kubernetes.namespace_name\"]\n",
    "        message = dc[\"message\"]\n",
    "        logs_data.append([log_line[0], namespace, pod, message])\n",
    "logs_df = pd.DataFrame(logs_data, columns=[\"timestamp\", \"namespace\", \"pod\", \"message\"])"
   ]
  },
  {
   "cell_type": "code",
   "execution_count": 33,
   "id": "1541abf6-8a45-47d8-a50d-92a6e0379ba0",
   "metadata": {},
   "outputs": [],
   "source": [
    "logs_df[\"message\"] = logs_df[\"message\"].apply(hash_email)\n",
    "logs_df[\"message\"] = logs_df[\"message\"].apply(hash_podname)\n",
    "logs_df[\"pod\"] = logs_df[\"pod\"].apply(hash_str)"
   ]
  },
  {
   "cell_type": "code",
   "execution_count": 34,
   "id": "74ce7982-04d6-45d4-93b9-86f32fee06d6",
   "metadata": {},
   "outputs": [
    {
     "data": {
      "text/html": [
       "<div>\n",
       "<style scoped>\n",
       "    .dataframe tbody tr th:only-of-type {\n",
       "        vertical-align: middle;\n",
       "    }\n",
       "\n",
       "    .dataframe tbody tr th {\n",
       "        vertical-align: top;\n",
       "    }\n",
       "\n",
       "    .dataframe thead th {\n",
       "        text-align: right;\n",
       "    }\n",
       "</style>\n",
       "<table border=\"1\" class=\"dataframe\">\n",
       "  <thead>\n",
       "    <tr style=\"text-align: right;\">\n",
       "      <th></th>\n",
       "      <th>timestamp</th>\n",
       "      <th>namespace</th>\n",
       "      <th>pod</th>\n",
       "      <th>message</th>\n",
       "    </tr>\n",
       "  </thead>\n",
       "  <tbody>\n",
       "    <tr>\n",
       "      <th>0</th>\n",
       "      <td>1619614799936000000</td>\n",
       "      <td>opf-jupyterhub</td>\n",
       "      <td>c1282c7f61f54d63d572ac744f476a72ddfd8e7e92c646...</td>\n",
       "      <td>[I 2021-04-28 12:59:59.936 JupyterHub log:189]...</td>\n",
       "    </tr>\n",
       "    <tr>\n",
       "      <th>1</th>\n",
       "      <td>1619614799477000000</td>\n",
       "      <td>opf-jupyterhub</td>\n",
       "      <td>c1282c7f61f54d63d572ac744f476a72ddfd8e7e92c646...</td>\n",
       "      <td>12:59:59.477 [ConfigProxy] \u001b[32minfo\u001b[39m: 201...</td>\n",
       "    </tr>\n",
       "    <tr>\n",
       "      <th>2</th>\n",
       "      <td>1619614799477000000</td>\n",
       "      <td>opf-jupyterhub</td>\n",
       "      <td>c1282c7f61f54d63d572ac744f476a72ddfd8e7e92c646...</td>\n",
       "      <td>12:59:59.477 [ConfigProxy] \u001b[32minfo\u001b[39m: Rou...</td>\n",
       "    </tr>\n",
       "    <tr>\n",
       "      <th>3</th>\n",
       "      <td>1619614799476000000</td>\n",
       "      <td>opf-jupyterhub</td>\n",
       "      <td>c1282c7f61f54d63d572ac744f476a72ddfd8e7e92c646...</td>\n",
       "      <td>12:59:59.477 [ConfigProxy] \u001b[32minfo\u001b[39m: Add...</td>\n",
       "    </tr>\n",
       "    <tr>\n",
       "      <th>4</th>\n",
       "      <td>1619614799468000000</td>\n",
       "      <td>opf-jupyterhub</td>\n",
       "      <td>c1282c7f61f54d63d572ac744f476a72ddfd8e7e92c646...</td>\n",
       "      <td>/user/32bc72f9faeea8ab3897cf77b800f57c82ef1587...</td>\n",
       "    </tr>\n",
       "    <tr>\n",
       "      <th>...</th>\n",
       "      <td>...</td>\n",
       "      <td>...</td>\n",
       "      <td>...</td>\n",
       "      <td>...</td>\n",
       "    </tr>\n",
       "    <tr>\n",
       "      <th>2395</th>\n",
       "      <td>1619697592078000000</td>\n",
       "      <td>opf-jupyterhub</td>\n",
       "      <td>c1282c7f61f54d63d572ac744f476a72ddfd8e7e92c646...</td>\n",
       "      <td>ParseResult(scheme='http', netloc='10.131.3.3:...</td>\n",
       "    </tr>\n",
       "    <tr>\n",
       "      <th>2396</th>\n",
       "      <td>1619697592078000000</td>\n",
       "      <td>opf-jupyterhub</td>\n",
       "      <td>c1282c7f61f54d63d572ac744f476a72ddfd8e7e92c646...</td>\n",
       "      <td>/user/ded6e08b44c4b28e295f9d5c76afd03d8f21d1de...</td>\n",
       "    </tr>\n",
       "    <tr>\n",
       "      <th>2397</th>\n",
       "      <td>1619697592075000000</td>\n",
       "      <td>opf-jupyterhub</td>\n",
       "      <td>c1282c7f61f54d63d572ac744f476a72ddfd8e7e92c646...</td>\n",
       "      <td>11:59:52.075 [ConfigProxy] \u001b[32minfo\u001b[39m: 201...</td>\n",
       "    </tr>\n",
       "    <tr>\n",
       "      <th>2398</th>\n",
       "      <td>1619697592074000000</td>\n",
       "      <td>opf-jupyterhub</td>\n",
       "      <td>c1282c7f61f54d63d572ac744f476a72ddfd8e7e92c646...</td>\n",
       "      <td>11:59:52.074 [ConfigProxy] \u001b[32minfo\u001b[39m: Add...</td>\n",
       "    </tr>\n",
       "    <tr>\n",
       "      <th>2399</th>\n",
       "      <td>1619697592074000000</td>\n",
       "      <td>opf-jupyterhub</td>\n",
       "      <td>c1282c7f61f54d63d572ac744f476a72ddfd8e7e92c646...</td>\n",
       "      <td>11:59:52.075 [ConfigProxy] \u001b[32minfo\u001b[39m: Rou...</td>\n",
       "    </tr>\n",
       "  </tbody>\n",
       "</table>\n",
       "<p>2400 rows × 4 columns</p>\n",
       "</div>"
      ],
      "text/plain": [
       "                timestamp       namespace  \\\n",
       "0     1619614799936000000  opf-jupyterhub   \n",
       "1     1619614799477000000  opf-jupyterhub   \n",
       "2     1619614799477000000  opf-jupyterhub   \n",
       "3     1619614799476000000  opf-jupyterhub   \n",
       "4     1619614799468000000  opf-jupyterhub   \n",
       "...                   ...             ...   \n",
       "2395  1619697592078000000  opf-jupyterhub   \n",
       "2396  1619697592078000000  opf-jupyterhub   \n",
       "2397  1619697592075000000  opf-jupyterhub   \n",
       "2398  1619697592074000000  opf-jupyterhub   \n",
       "2399  1619697592074000000  opf-jupyterhub   \n",
       "\n",
       "                                                    pod  \\\n",
       "0     c1282c7f61f54d63d572ac744f476a72ddfd8e7e92c646...   \n",
       "1     c1282c7f61f54d63d572ac744f476a72ddfd8e7e92c646...   \n",
       "2     c1282c7f61f54d63d572ac744f476a72ddfd8e7e92c646...   \n",
       "3     c1282c7f61f54d63d572ac744f476a72ddfd8e7e92c646...   \n",
       "4     c1282c7f61f54d63d572ac744f476a72ddfd8e7e92c646...   \n",
       "...                                                 ...   \n",
       "2395  c1282c7f61f54d63d572ac744f476a72ddfd8e7e92c646...   \n",
       "2396  c1282c7f61f54d63d572ac744f476a72ddfd8e7e92c646...   \n",
       "2397  c1282c7f61f54d63d572ac744f476a72ddfd8e7e92c646...   \n",
       "2398  c1282c7f61f54d63d572ac744f476a72ddfd8e7e92c646...   \n",
       "2399  c1282c7f61f54d63d572ac744f476a72ddfd8e7e92c646...   \n",
       "\n",
       "                                                message  \n",
       "0     [I 2021-04-28 12:59:59.936 JupyterHub log:189]...  \n",
       "1     12:59:59.477 [ConfigProxy] \u001b[32minfo\u001b[39m: 201...  \n",
       "2     12:59:59.477 [ConfigProxy] \u001b[32minfo\u001b[39m: Rou...  \n",
       "3     12:59:59.477 [ConfigProxy] \u001b[32minfo\u001b[39m: Add...  \n",
       "4     /user/32bc72f9faeea8ab3897cf77b800f57c82ef1587...  \n",
       "...                                                 ...  \n",
       "2395  ParseResult(scheme='http', netloc='10.131.3.3:...  \n",
       "2396  /user/ded6e08b44c4b28e295f9d5c76afd03d8f21d1de...  \n",
       "2397  11:59:52.075 [ConfigProxy] \u001b[32minfo\u001b[39m: 201...  \n",
       "2398  11:59:52.074 [ConfigProxy] \u001b[32minfo\u001b[39m: Add...  \n",
       "2399  11:59:52.075 [ConfigProxy] \u001b[32minfo\u001b[39m: Rou...  \n",
       "\n",
       "[2400 rows x 4 columns]"
      ]
     },
     "execution_count": 34,
     "metadata": {},
     "output_type": "execute_result"
    }
   ],
   "source": [
    "logs_df"
   ]
  },
  {
   "cell_type": "code",
   "execution_count": 35,
   "id": "be73dd2d",
   "metadata": {},
   "outputs": [
    {
     "data": {
      "text/plain": [
       "c1282c7f61f54d63d572ac744f476a72ddfd8e7e92c6468253123977    1406\n",
       "46370ba3277c53edd8e4777f9308dc0b46d77e145b31f11a3090f9e6     808\n",
       "8db5cc0ce1ed5fd2b6b4d0c074d67a07200ad473068367f7a2f17254      81\n",
       "6a264c580f88d15ba26424daaf49f841d0dc157f2435f7ad6d52d01a      52\n",
       "6d679893fdfb604fc76e01d2445ce75d524670ad9a5c009f3c05957c      47\n",
       "9aaf637427a80f834a90fef511e5f158fa1a0d8a46fe8cf04a21f07b       6\n",
       "Name: pod, dtype: int64"
      ]
     },
     "execution_count": 35,
     "metadata": {},
     "output_type": "execute_result"
    }
   ],
   "source": [
    "## Look at the pods from which we got logs\n",
    "logs_df[\"pod\"].value_counts()"
   ]
  },
  {
   "cell_type": "code",
   "execution_count": 36,
   "id": "956cc5f1",
   "metadata": {},
   "outputs": [
    {
     "name": "stdout",
     "output_type": "stream",
     "text": [
      "c1282c7f61f54d63d572ac744f476a72ddfd8e7e92c6468253123977 [I 2021-04-28 12:59:59.936 JupyterHub log:189] 302 GET /metrics -> /hub/metrics (@::ffff:10.129.6.124) 2.76ms\n",
      "c1282c7f61f54d63d572ac744f476a72ddfd8e7e92c6468253123977 12:59:59.477 [ConfigProxy] \u001b[32minfo\u001b[39m: 201 POST /api/routes/user/32bc72f9faeea8ab3897cf77b800f57c82ef1587ab54ad2e14066c7d/public \n",
      "c1282c7f61f54d63d572ac744f476a72ddfd8e7e92c6468253123977 12:59:59.477 [ConfigProxy] \u001b[32minfo\u001b[39m: Route added /user/32bc72f9faeea8ab3897cf77b800f57c82ef1587ab54ad2e14066c7d/public -> http://10.131.2.60:9090\n"
     ]
    }
   ],
   "source": [
    "# Print example pod and log messages\n",
    "print(logs_df[\"pod\"][0], logs_df[\"message\"][0])\n",
    "print(logs_df[\"pod\"][1], logs_df[\"message\"][1])\n",
    "print(logs_df[\"pod\"][2], logs_df[\"message\"][2])"
   ]
  },
  {
   "cell_type": "code",
   "execution_count": 37,
   "id": "65cfef9d-0591-4ecc-915d-82ff3897cc3e",
   "metadata": {},
   "outputs": [],
   "source": [
    "logs_df.to_parquet(\"../data/processed/jupyterhub/logs/logs.parquet\")"
   ]
  },
  {
   "cell_type": "markdown",
   "id": "807eb4dd",
   "metadata": {},
   "source": [
    "# Conclusion\n",
    "In this notebook, we collected all the observed time series data points for the opf-jupyterhub namespace. We fetched metrics, logs, and events for 24 hours and showed how we can split it for different pods."
   ]
  }
 ],
 "metadata": {
  "kernelspec": {
   "display_name": "Python 3",
   "language": "python",
   "name": "python3"
  },
  "language_info": {
   "codemirror_mode": {
    "name": "ipython",
    "version": 3
   },
   "file_extension": ".py",
   "mimetype": "text/x-python",
   "name": "python",
   "nbconvert_exporter": "python",
   "pygments_lexer": "ipython3",
   "version": "3.8.3"
  }
 },
 "nbformat": 4,
 "nbformat_minor": 5
}
